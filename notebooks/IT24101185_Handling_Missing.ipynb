{
 "cells": [
  {
   "cell_type": "code",
   "execution_count": 2,
   "id": "4e904e47-bbe3-4d9b-8e8c-3f638f080e76",
   "metadata": {},
   "outputs": [
    {
     "name": "stdout",
     "output_type": "stream",
     "text": [
      "Original shape: (70000, 19)\n",
      "Missing values:\n",
      "Chest_Pain             0\n",
      "Shortness_of_Breath    0\n",
      "Fatigue                0\n",
      "Palpitations           0\n",
      "Dizziness              0\n",
      "Swelling               0\n",
      "Pain_Arms_Jaw_Back     0\n",
      "Cold_Sweats_Nausea     0\n",
      "High_BP                0\n",
      "High_Cholesterol       0\n",
      "Diabetes               0\n",
      "Smoking                0\n",
      "Obesity                0\n",
      "Sedentary_Lifestyle    0\n",
      "Family_History         0\n",
      "Chronic_Stress         0\n",
      "Gender                 0\n",
      "Age                    0\n",
      "Heart_Risk             0\n",
      "dtype: int64\n"
     ]
    },
    {
     "ename": "NameError",
     "evalue": "name 'np' is not defined",
     "output_type": "error",
     "traceback": [
      "\u001b[1;31m---------------------------------------------------------------------------\u001b[0m",
      "\u001b[1;31mNameError\u001b[0m                                 Traceback (most recent call last)",
      "Cell \u001b[1;32mIn[2], line 7\u001b[0m\n\u001b[0;32m      4\u001b[0m \u001b[38;5;28mprint\u001b[39m(\u001b[38;5;124mf\u001b[39m\u001b[38;5;124m\"\u001b[39m\u001b[38;5;124mMissing values:\u001b[39m\u001b[38;5;130;01m\\n\u001b[39;00m\u001b[38;5;132;01m{\u001b[39;00mdf\u001b[38;5;241m.\u001b[39misnull()\u001b[38;5;241m.\u001b[39msum()\u001b[38;5;132;01m}\u001b[39;00m\u001b[38;5;124m\"\u001b[39m)\n\u001b[0;32m      6\u001b[0m \u001b[38;5;66;03m# Simulate missing data for demonstration\u001b[39;00m\n\u001b[1;32m----> 7\u001b[0m np\u001b[38;5;241m.\u001b[39mrandom\u001b[38;5;241m.\u001b[39mseed(\u001b[38;5;241m42\u001b[39m)\n\u001b[0;32m      8\u001b[0m df_demo \u001b[38;5;241m=\u001b[39m df\u001b[38;5;241m.\u001b[39mcopy()\n\u001b[0;32m     10\u001b[0m \u001b[38;5;66;03m# Simulate 5% missing in Glucose and 3% in Cholesterol\u001b[39;00m\n",
      "\u001b[1;31mNameError\u001b[0m: name 'np' is not defined"
     ]
    }
   ],
   "source": [
    "# Load and inspect\n",
    "df = pd.read_csv('../data/raw/heart_disease_risk.csv')\n",
    "print(f\"Original shape: {df.shape}\")\n",
    "print(f\"Missing values:\\n{df.isnull().sum()}\")\n",
    "\n",
    "# Simulate missing data for demonstration\n",
    "np.random.seed(42)\n",
    "df_demo = df.copy()\n",
    "\n",
    "# Simulate 5% missing in Glucose and 3% in Cholesterol\n",
    "glucose_missing = np.random.choice(df_demo.index, size=int(0.05*len(df_demo)), replace=False)\n",
    "chol_missing = np.random.choice(df_demo.index, size=int(0.03*len(df_demo)), replace=False)\n",
    "\n",
    "df_demo.loc[glucose_missing, 'Glucose'] = np.nan\n",
    "df_demo.loc[chol_missing, 'Cholesterol'] = np.nan\n",
    "\n",
    "print(f\"Simulated missing:\\n{df_demo.isnull().sum()}\")\n",
    "\n",
    "# Handle missing values\n",
    "# Numerical: Median imputation (robust to outliers)\n",
    "num_imputer = SimpleImputer(strategy='median')\n",
    "df_demo[['Glucose', 'Cholesterol']] = num_imputer.fit_transform(df_demo[['Glucose', 'Cholesterol']])\n",
    "\n",
    "print(f\"After imputation: {df_demo.isnull().sum().sum()} missing values\")\n",
    "\n",
    "# Save processed data\n",
    "df_demo.to_csv('../results/outputs/member1_processed.csv', index=False)\n"
   ]
  }
 ],
 "metadata": {
  "kernelspec": {
   "display_name": "Python 3 (ipykernel)",
   "language": "python",
   "name": "python3"
  },
  "language_info": {
   "codemirror_mode": {
    "name": "ipython",
    "version": 3
   },
   "file_extension": ".py",
   "mimetype": "text/x-python",
   "name": "python",
   "nbconvert_exporter": "python",
   "pygments_lexer": "ipython3",
   "version": "3.12.7"
  }
 },
 "nbformat": 4,
 "nbformat_minor": 5
}
