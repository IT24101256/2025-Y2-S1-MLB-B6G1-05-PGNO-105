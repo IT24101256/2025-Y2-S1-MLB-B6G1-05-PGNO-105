{
 "cells": [
  {
   "cell_type": "code",
   "execution_count": 1,
   "id": "4e904e47-bbe3-4d9b-8e8c-3f638f080e76",
   "metadata": {},
   "outputs": [
    {
     "name": "stdout",
     "output_type": "stream",
     "text": [
      "(70000, 19)\n",
      "['Chest_Pain', 'Shortness_of_Breath', 'Fatigue', 'Palpitations', 'Dizziness', 'Swelling', 'Pain_Arms_Jaw_Back', 'Cold_Sweats_Nausea', 'High_BP', 'High_Cholesterol', 'Diabetes', 'Smoking', 'Obesity', 'Sedentary_Lifestyle', 'Family_History', 'Chronic_Stress', 'Gender', 'Age', 'Heart_Risk']\n",
      "Heart_Risk\n",
      "0.0    0.5\n",
      "1.0    0.5\n",
      "Name: proportion, dtype: float64\n"
     ]
    }
   ],
   "source": [
    "import pandas as pd\n",
    "df = pd.read_csv('../data/raw/heart_disease_risk.csv')\n",
    "print(df.shape)  # Expected: (70000, 18)\n",
    "print(df.columns.tolist())  # Features: ['Age', 'Sex', 'ChestPain', 'Cholesterol', 'BloodPressure', 'Smoking', 'Obesity', 'ShortnessOfBreath', 'Glucose', 'BMI', 'Diabetes', 'FamilyHistory', 'PhysicalActivity', 'Diet', 'StressLevel', 'SleepHours', 'SedentaryHours', 'Heart_Risk']\n",
    "print(df['Heart_Risk'].value_counts(normalize=True))  # Target: Binary (0 = Low Risk, 1 = High Risk), ~balanced"
   ]
  }
 ],
 "metadata": {
  "kernelspec": {
   "display_name": "Python 3 (ipykernel)",
   "language": "python",
   "name": "python3"
  },
  "language_info": {
   "codemirror_mode": {
    "name": "ipython",
    "version": 3
   },
   "file_extension": ".py",
   "mimetype": "text/x-python",
   "name": "python",
   "nbconvert_exporter": "python",
   "pygments_lexer": "ipython3",
   "version": "3.12.7"
  }
 },
 "nbformat": 4,
 "nbformat_minor": 5
}
