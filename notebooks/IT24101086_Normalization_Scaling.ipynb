{
  "nbformat": 4,
  "nbformat_minor": 0,
  "metadata": {
    "colab": {
      "provenance": []
    },
    "kernelspec": {
      "name": "python3",
      "display_name": "Python 3"
    },
    "language_info": {
      "name": "python"
    }
  },
  "cells": [
    {
      "cell_type": "code",
      "execution_count": 1,
      "metadata": {
        "id": "voeZ6b4lHQMI"
      },
      "outputs": [],
      "source": [
        "import pandas as pd\n",
        "import matplotlib.pyplot as plt\n",
        "import seaborn as sns\n",
        "from sklearn.preprocessing import MinMaxScaler, StandardScaler, RobustScaler"
      ]
    },
    {
      "cell_type": "code",
      "source": [
        "#Load Dataset\n",
        "from google.colab import files\n",
        "uploaded = files.upload()"
      ],
      "metadata": {
        "colab": {
          "base_uri": "https://localhost:8080/",
          "height": 73
        },
        "id": "q7lF-yfeHU1h",
        "outputId": "a6b84a48-cda0-4760-b53a-040360bb0dc0"
      },
      "execution_count": 7,
      "outputs": [
        {
          "output_type": "display_data",
          "data": {
            "text/plain": [
              "<IPython.core.display.HTML object>"
            ],
            "text/html": [
              "\n",
              "     <input type=\"file\" id=\"files-b515cf59-981e-45d9-9dee-1636d92238f0\" name=\"files[]\" multiple disabled\n",
              "        style=\"border:none\" />\n",
              "     <output id=\"result-b515cf59-981e-45d9-9dee-1636d92238f0\">\n",
              "      Upload widget is only available when the cell has been executed in the\n",
              "      current browser session. Please rerun this cell to enable.\n",
              "      </output>\n",
              "      <script>// Copyright 2017 Google LLC\n",
              "//\n",
              "// Licensed under the Apache License, Version 2.0 (the \"License\");\n",
              "// you may not use this file except in compliance with the License.\n",
              "// You may obtain a copy of the License at\n",
              "//\n",
              "//      http://www.apache.org/licenses/LICENSE-2.0\n",
              "//\n",
              "// Unless required by applicable law or agreed to in writing, software\n",
              "// distributed under the License is distributed on an \"AS IS\" BASIS,\n",
              "// WITHOUT WARRANTIES OR CONDITIONS OF ANY KIND, either express or implied.\n",
              "// See the License for the specific language governing permissions and\n",
              "// limitations under the License.\n",
              "\n",
              "/**\n",
              " * @fileoverview Helpers for google.colab Python module.\n",
              " */\n",
              "(function(scope) {\n",
              "function span(text, styleAttributes = {}) {\n",
              "  const element = document.createElement('span');\n",
              "  element.textContent = text;\n",
              "  for (const key of Object.keys(styleAttributes)) {\n",
              "    element.style[key] = styleAttributes[key];\n",
              "  }\n",
              "  return element;\n",
              "}\n",
              "\n",
              "// Max number of bytes which will be uploaded at a time.\n",
              "const MAX_PAYLOAD_SIZE = 100 * 1024;\n",
              "\n",
              "function _uploadFiles(inputId, outputId) {\n",
              "  const steps = uploadFilesStep(inputId, outputId);\n",
              "  const outputElement = document.getElementById(outputId);\n",
              "  // Cache steps on the outputElement to make it available for the next call\n",
              "  // to uploadFilesContinue from Python.\n",
              "  outputElement.steps = steps;\n",
              "\n",
              "  return _uploadFilesContinue(outputId);\n",
              "}\n",
              "\n",
              "// This is roughly an async generator (not supported in the browser yet),\n",
              "// where there are multiple asynchronous steps and the Python side is going\n",
              "// to poll for completion of each step.\n",
              "// This uses a Promise to block the python side on completion of each step,\n",
              "// then passes the result of the previous step as the input to the next step.\n",
              "function _uploadFilesContinue(outputId) {\n",
              "  const outputElement = document.getElementById(outputId);\n",
              "  const steps = outputElement.steps;\n",
              "\n",
              "  const next = steps.next(outputElement.lastPromiseValue);\n",
              "  return Promise.resolve(next.value.promise).then((value) => {\n",
              "    // Cache the last promise value to make it available to the next\n",
              "    // step of the generator.\n",
              "    outputElement.lastPromiseValue = value;\n",
              "    return next.value.response;\n",
              "  });\n",
              "}\n",
              "\n",
              "/**\n",
              " * Generator function which is called between each async step of the upload\n",
              " * process.\n",
              " * @param {string} inputId Element ID of the input file picker element.\n",
              " * @param {string} outputId Element ID of the output display.\n",
              " * @return {!Iterable<!Object>} Iterable of next steps.\n",
              " */\n",
              "function* uploadFilesStep(inputId, outputId) {\n",
              "  const inputElement = document.getElementById(inputId);\n",
              "  inputElement.disabled = false;\n",
              "\n",
              "  const outputElement = document.getElementById(outputId);\n",
              "  outputElement.innerHTML = '';\n",
              "\n",
              "  const pickedPromise = new Promise((resolve) => {\n",
              "    inputElement.addEventListener('change', (e) => {\n",
              "      resolve(e.target.files);\n",
              "    });\n",
              "  });\n",
              "\n",
              "  const cancel = document.createElement('button');\n",
              "  inputElement.parentElement.appendChild(cancel);\n",
              "  cancel.textContent = 'Cancel upload';\n",
              "  const cancelPromise = new Promise((resolve) => {\n",
              "    cancel.onclick = () => {\n",
              "      resolve(null);\n",
              "    };\n",
              "  });\n",
              "\n",
              "  // Wait for the user to pick the files.\n",
              "  const files = yield {\n",
              "    promise: Promise.race([pickedPromise, cancelPromise]),\n",
              "    response: {\n",
              "      action: 'starting',\n",
              "    }\n",
              "  };\n",
              "\n",
              "  cancel.remove();\n",
              "\n",
              "  // Disable the input element since further picks are not allowed.\n",
              "  inputElement.disabled = true;\n",
              "\n",
              "  if (!files) {\n",
              "    return {\n",
              "      response: {\n",
              "        action: 'complete',\n",
              "      }\n",
              "    };\n",
              "  }\n",
              "\n",
              "  for (const file of files) {\n",
              "    const li = document.createElement('li');\n",
              "    li.append(span(file.name, {fontWeight: 'bold'}));\n",
              "    li.append(span(\n",
              "        `(${file.type || 'n/a'}) - ${file.size} bytes, ` +\n",
              "        `last modified: ${\n",
              "            file.lastModifiedDate ? file.lastModifiedDate.toLocaleDateString() :\n",
              "                                    'n/a'} - `));\n",
              "    const percent = span('0% done');\n",
              "    li.appendChild(percent);\n",
              "\n",
              "    outputElement.appendChild(li);\n",
              "\n",
              "    const fileDataPromise = new Promise((resolve) => {\n",
              "      const reader = new FileReader();\n",
              "      reader.onload = (e) => {\n",
              "        resolve(e.target.result);\n",
              "      };\n",
              "      reader.readAsArrayBuffer(file);\n",
              "    });\n",
              "    // Wait for the data to be ready.\n",
              "    let fileData = yield {\n",
              "      promise: fileDataPromise,\n",
              "      response: {\n",
              "        action: 'continue',\n",
              "      }\n",
              "    };\n",
              "\n",
              "    // Use a chunked sending to avoid message size limits. See b/62115660.\n",
              "    let position = 0;\n",
              "    do {\n",
              "      const length = Math.min(fileData.byteLength - position, MAX_PAYLOAD_SIZE);\n",
              "      const chunk = new Uint8Array(fileData, position, length);\n",
              "      position += length;\n",
              "\n",
              "      const base64 = btoa(String.fromCharCode.apply(null, chunk));\n",
              "      yield {\n",
              "        response: {\n",
              "          action: 'append',\n",
              "          file: file.name,\n",
              "          data: base64,\n",
              "        },\n",
              "      };\n",
              "\n",
              "      let percentDone = fileData.byteLength === 0 ?\n",
              "          100 :\n",
              "          Math.round((position / fileData.byteLength) * 100);\n",
              "      percent.textContent = `${percentDone}% done`;\n",
              "\n",
              "    } while (position < fileData.byteLength);\n",
              "  }\n",
              "\n",
              "  // All done.\n",
              "  yield {\n",
              "    response: {\n",
              "      action: 'complete',\n",
              "    }\n",
              "  };\n",
              "}\n",
              "\n",
              "scope.google = scope.google || {};\n",
              "scope.google.colab = scope.google.colab || {};\n",
              "scope.google.colab._files = {\n",
              "  _uploadFiles,\n",
              "  _uploadFilesContinue,\n",
              "};\n",
              "})(self);\n",
              "</script> "
            ]
          },
          "metadata": {}
        },
        {
          "output_type": "stream",
          "name": "stdout",
          "text": [
            "Saving heart_disease_risk.csv to heart_disease_risk (1).csv\n"
          ]
        }
      ]
    },
    {
      "cell_type": "code",
      "source": [
        "print(\"Original Dataset Shape:\", df.shape)\n",
        "print(df.head())\n"
      ],
      "metadata": {
        "colab": {
          "base_uri": "https://localhost:8080/"
        },
        "id": "iGH8XvLyHccx",
        "outputId": "daf51435-990b-4e7c-cd8d-d45b3cac2d86"
      },
      "execution_count": 6,
      "outputs": [
        {
          "output_type": "stream",
          "name": "stdout",
          "text": [
            "Original Dataset Shape: (70000, 19)\n",
            "   Chest_Pain  Shortness_of_Breath  Fatigue  Palpitations  Dizziness  \\\n",
            "0         0.0                  0.0      0.0           1.0        0.0   \n",
            "1         0.0                  1.0      0.0           1.0        0.0   \n",
            "2         1.0                  0.0      0.0           1.0        0.0   \n",
            "3         1.0                  1.0      0.0           1.0        0.0   \n",
            "4         0.0                  0.0      1.0           0.0        1.0   \n",
            "\n",
            "   Swelling  Pain_Arms_Jaw_Back  Cold_Sweats_Nausea  High_BP  \\\n",
            "0       0.0                 0.0                 0.0      0.0   \n",
            "1       0.0                 0.0                 0.0      1.0   \n",
            "2       0.0                 0.0                 0.0      1.0   \n",
            "3       0.0                 1.0                 1.0      1.0   \n",
            "4       0.0                 0.0                 0.0      0.0   \n",
            "\n",
            "   High_Cholesterol  Diabetes  Smoking  Obesity  Sedentary_Lifestyle  \\\n",
            "0               0.0       0.0      1.0      0.0                  1.0   \n",
            "1               0.0       0.0      1.0      1.0                  0.0   \n",
            "2               1.0       0.0      1.0      1.0                  1.0   \n",
            "3               0.0       1.0      1.0      0.0                  1.0   \n",
            "4               0.0       1.0      0.0      0.0                  0.0   \n",
            "\n",
            "   Family_History  Chronic_Stress  Gender   Age  Heart_Risk  \n",
            "0             0.0             0.0     0.0  48.0         0.0  \n",
            "1             0.0             0.0     0.0  46.0         0.0  \n",
            "2             0.0             0.0     1.0  66.0         0.0  \n",
            "3             1.0             1.0     1.0  60.0         1.0  \n",
            "4             0.0             0.0     0.0  69.0         0.0  \n"
          ]
        }
      ]
    },
    {
      "cell_type": "code",
      "metadata": {
        "id": "752cc8d0"
      },
      "source": [
        "df = pd.read_csv('heart_disease_risk.csv')"
      ],
      "execution_count": 5,
      "outputs": []
    },
    {
      "cell_type": "code",
      "source": [
        "#Check Data Types\n",
        "numeric_cols = df.select_dtypes(include=['int64','float64']).columns\n",
        "print(\"Numeric Columns:\", list(numeric_cols))\n"
      ],
      "metadata": {
        "colab": {
          "base_uri": "https://localhost:8080/"
        },
        "id": "dGO8K411Hrfe",
        "outputId": "6a0a854f-25b2-4187-a775-25260172b011"
      },
      "execution_count": 8,
      "outputs": [
        {
          "output_type": "stream",
          "name": "stdout",
          "text": [
            "Numeric Columns: ['Chest_Pain', 'Shortness_of_Breath', 'Fatigue', 'Palpitations', 'Dizziness', 'Swelling', 'Pain_Arms_Jaw_Back', 'Cold_Sweats_Nausea', 'High_BP', 'High_Cholesterol', 'Diabetes', 'Smoking', 'Obesity', 'Sedentary_Lifestyle', 'Family_History', 'Chronic_Stress', 'Gender', 'Age', 'Heart_Risk']\n"
          ]
        }
      ]
    },
    {
      "cell_type": "code",
      "source": [
        "# Min-Max Normalization (0–1)\n",
        "minmax_scaler = MinMaxScaler()\n",
        "df_minmax = df.copy()\n",
        "df_minmax[numeric_cols] = minmax_scaler.fit_transform(df[numeric_cols])"
      ],
      "metadata": {
        "id": "TlnxyJ_1IOcs"
      },
      "execution_count": 9,
      "outputs": []
    },
    {
      "cell_type": "code",
      "source": [
        "print(\"\\nMin-Max Normalized Data (first 5 rows):\")\n",
        "print(df_minmax.head())\n"
      ],
      "metadata": {
        "colab": {
          "base_uri": "https://localhost:8080/"
        },
        "id": "KTCUAkyIIXJ8",
        "outputId": "6df3243c-13db-4ae8-d8c8-9107cf44c64c"
      },
      "execution_count": 10,
      "outputs": [
        {
          "output_type": "stream",
          "name": "stdout",
          "text": [
            "\n",
            "Min-Max Normalized Data (first 5 rows):\n",
            "   Chest_Pain  Shortness_of_Breath  Fatigue  Palpitations  Dizziness  \\\n",
            "0         0.0                  0.0      0.0           1.0        0.0   \n",
            "1         0.0                  1.0      0.0           1.0        0.0   \n",
            "2         1.0                  0.0      0.0           1.0        0.0   \n",
            "3         1.0                  1.0      0.0           1.0        0.0   \n",
            "4         0.0                  0.0      1.0           0.0        1.0   \n",
            "\n",
            "   Swelling  Pain_Arms_Jaw_Back  Cold_Sweats_Nausea  High_BP  \\\n",
            "0       0.0                 0.0                 0.0      0.0   \n",
            "1       0.0                 0.0                 0.0      1.0   \n",
            "2       0.0                 0.0                 0.0      1.0   \n",
            "3       0.0                 1.0                 1.0      1.0   \n",
            "4       0.0                 0.0                 0.0      0.0   \n",
            "\n",
            "   High_Cholesterol  Diabetes  Smoking  Obesity  Sedentary_Lifestyle  \\\n",
            "0               0.0       0.0      1.0      0.0                  1.0   \n",
            "1               0.0       0.0      1.0      1.0                  0.0   \n",
            "2               1.0       0.0      1.0      1.0                  1.0   \n",
            "3               0.0       1.0      1.0      0.0                  1.0   \n",
            "4               0.0       1.0      0.0      0.0                  0.0   \n",
            "\n",
            "   Family_History  Chronic_Stress  Gender       Age  Heart_Risk  \n",
            "0             0.0             0.0     0.0  0.437500         0.0  \n",
            "1             0.0             0.0     0.0  0.406250         0.0  \n",
            "2             0.0             0.0     1.0  0.718750         0.0  \n",
            "3             1.0             1.0     1.0  0.625000         1.0  \n",
            "4             0.0             0.0     0.0  0.765625         0.0  \n"
          ]
        }
      ]
    },
    {
      "cell_type": "code",
      "source": [
        "#Standardization\n",
        "std_scaler = StandardScaler()\n",
        "df_standard = df.copy()\n",
        "df_standard[numeric_cols] = std_scaler.fit_transform(df[numeric_cols])\n",
        "\n",
        "print(\"\\nStandardized Data (first 5 rows):\")\n",
        "print(df_standard.head())"
      ],
      "metadata": {
        "colab": {
          "base_uri": "https://localhost:8080/"
        },
        "id": "1mtfbon9IZlq",
        "outputId": "93cf75fb-d07f-4b39-aabc-de29927cc3e5"
      },
      "execution_count": 11,
      "outputs": [
        {
          "output_type": "stream",
          "name": "stdout",
          "text": [
            "\n",
            "Standardized Data (first 5 rows):\n",
            "   Chest_Pain  Shortness_of_Breath   Fatigue  Palpitations  Dizziness  \\\n",
            "0   -0.998458            -1.001172 -0.997147      1.002546  -1.002833   \n",
            "1   -0.998458             0.998829 -0.997147      1.002546  -1.002833   \n",
            "2    1.001544            -1.001172 -0.997147      1.002546  -1.002833   \n",
            "3    1.001544             0.998829 -0.997147      1.002546  -1.002833   \n",
            "4   -0.998458            -1.001172  1.002861     -0.997460   0.997175   \n",
            "\n",
            "   Swelling  Pain_Arms_Jaw_Back  Cold_Sweats_Nausea   High_BP  \\\n",
            "0 -0.997859           -1.003005           -1.004926 -0.994870   \n",
            "1 -0.997859           -1.003005           -1.004926  1.005156   \n",
            "2 -0.997859           -1.003005           -1.004926  1.005156   \n",
            "3 -0.997859            0.997004            0.995098  1.005156   \n",
            "4 -0.997859           -1.003005           -1.004926 -0.994870   \n",
            "\n",
            "   High_Cholesterol  Diabetes   Smoking   Obesity  Sedentary_Lifestyle  \\\n",
            "0         -0.998430 -1.001287  0.994075 -0.998316             0.992939   \n",
            "1         -0.998430 -1.001287  0.994075  1.001687            -1.007111   \n",
            "2          1.001573 -1.001287  0.994075  1.001687             0.992939   \n",
            "3         -0.998430  0.998715  0.994075 -0.998316             0.992939   \n",
            "4         -0.998430  0.998715 -1.005961 -0.998316            -1.007111   \n",
            "\n",
            "   Family_History  Chronic_Stress    Gender       Age  Heart_Risk  \n",
            "0       -0.995268       -0.999914 -1.103152 -0.393767        -1.0  \n",
            "1       -0.995268       -0.999914 -1.103152 -0.515639        -1.0  \n",
            "2       -0.995268       -0.999914  0.906494  0.703080        -1.0  \n",
            "3        1.004754        1.000086  0.906494  0.337464         1.0  \n",
            "4       -0.995268       -0.999914 -1.103152  0.885888        -1.0  \n"
          ]
        }
      ]
    },
    {
      "cell_type": "code",
      "source": [
        "#Robust Scaling\n",
        "\n",
        "robust_scaler = RobustScaler()\n",
        "df_robust = df.copy()\n",
        "df_robust[numeric_cols] = robust_scaler.fit_transform(df[numeric_cols])\n",
        "\n",
        "print(\"\\nRobust Scaled Data (first 5 rows):\")\n",
        "print(df_robust.head())"
      ],
      "metadata": {
        "colab": {
          "base_uri": "https://localhost:8080/"
        },
        "id": "z2VZ5f5QIhx9",
        "outputId": "9f659f73-842a-4f8f-b487-46a3d393610f"
      },
      "execution_count": 12,
      "outputs": [
        {
          "output_type": "stream",
          "name": "stdout",
          "text": [
            "\n",
            "Robust Scaled Data (first 5 rows):\n",
            "   Chest_Pain  Shortness_of_Breath  Fatigue  Palpitations  Dizziness  \\\n",
            "0         0.0                 -1.0      0.0           1.0       -1.0   \n",
            "1         0.0                  0.0      0.0           1.0       -1.0   \n",
            "2         1.0                 -1.0      0.0           1.0       -1.0   \n",
            "3         1.0                  0.0      0.0           1.0       -1.0   \n",
            "4         0.0                 -1.0      1.0           0.0        0.0   \n",
            "\n",
            "   Swelling  Pain_Arms_Jaw_Back  Cold_Sweats_Nausea  High_BP  \\\n",
            "0       0.0                -1.0                -1.0      0.0   \n",
            "1       0.0                -1.0                -1.0      1.0   \n",
            "2       0.0                -1.0                -1.0      1.0   \n",
            "3       0.0                 0.0                 0.0      1.0   \n",
            "4       0.0                -1.0                -1.0      0.0   \n",
            "\n",
            "   High_Cholesterol  Diabetes  Smoking  Obesity  Sedentary_Lifestyle  \\\n",
            "0               0.0      -1.0      0.0      0.0                  0.0   \n",
            "1               0.0      -1.0      0.0      1.0                 -1.0   \n",
            "2               1.0      -1.0      0.0      1.0                  0.0   \n",
            "3               0.0       0.0      0.0      0.0                  0.0   \n",
            "4               0.0       0.0     -1.0      0.0                 -1.0   \n",
            "\n",
            "   Family_History  Chronic_Stress  Gender       Age  Heart_Risk  \n",
            "0             0.0             0.0    -1.0 -0.363636        -0.5  \n",
            "1             0.0             0.0    -1.0 -0.454545        -0.5  \n",
            "2             0.0             0.0     0.0  0.454545        -0.5  \n",
            "3             1.0             1.0     0.0  0.181818         0.5  \n",
            "4             0.0             0.0    -1.0  0.590909        -0.5  \n"
          ]
        }
      ]
    },
    {
      "cell_type": "code",
      "source": [
        " #Visualization - Before vs After Scaling\n",
        "\n",
        "col = numeric_cols[0]  # pick the first numeric column\n",
        "\n",
        "fig, axes = plt.subplots(1, 3, figsize=(18,5))\n",
        "sns.histplot(df[col], kde=True, ax=axes[0], color=\"blue\")\n",
        "axes[0].set_title(f\"Original: {col}\")\n",
        "\n",
        "sns.histplot(df_minmax[col], kde=True, ax=axes[1], color=\"green\")\n",
        "axes[1].set_title(f\"Min-Max Scaled: {col}\")\n",
        "\n",
        "sns.histplot(df_standard[col], kde=True, ax=axes[2], color=\"red\")\n",
        "axes[2].set_title(f\"Standardized: {col}\")\n",
        "\n",
        "plt.show()"
      ],
      "metadata": {
        "colab": {
          "base_uri": "https://localhost:8080/",
          "height": 448
        },
        "id": "zbx0zDOzIo-a",
        "outputId": "f5c86119-72a4-48c8-a647-932e6834a3bd"
      },
      "execution_count": 13,
      "outputs": [
        {
          "output_type": "display_data",
          "data": {
            "text/plain": [
              "<Figure size 1800x500 with 3 Axes>"
            ],
            "image/png": "[encoded data removed]"
          },
          "metadata": {}
        }
      ]
    },
    {
      "cell_type": "code",
      "source": [
        "#Save Scaled Versions\n",
        "df_minmax.to_csv(\"heart_disease_risk_minmax.csv\", index=False)\n",
        "df_standard.to_csv(\"heart_disease_risk_standard.csv\", index=False)\n",
        "df_robust.to_csv(\"heart_disease_risk_robust.csv\", index=False)"
      ],
      "metadata": {
        "id": "R55lUU5iIwoa"
      },
      "execution_count": 14,
      "outputs": []
    },
    {
      "cell_type": "code",
      "source": [],
      "metadata": {
        "id": "YLxqONuCI6SC"
      },
      "execution_count": null,
      "outputs": []
    }
  ]
}